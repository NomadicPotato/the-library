{
 "cells": [
  {
   "cell_type": "markdown",
   "id": "ee1c4764",
   "metadata": {},
   "source": [
    "# BentoML + MLFlow\n",
    "I am foolwing the tutorial available here: [bentoml+MLFlow](https://www.bentoml.com/blog/building-ml-pipelines-with-mlflow-and-bentoml)"
   ]
  },
  {
   "cell_type": "markdown",
   "id": "0912a9b0",
   "metadata": {},
   "source": [
    "## Create Model"
   ]
  },
  {
   "cell_type": "code",
   "execution_count": 1,
   "id": "4095a62f",
   "metadata": {},
   "outputs": [
    {
     "name": "stdout",
     "output_type": "stream",
     "text": [
      "1.0\n"
     ]
    }
   ],
   "source": [
    "import mlflow\n",
    "from mlflow.models import infer_signature\n",
    "\n",
    "import pandas as pd\n",
    "from sklearn import datasets\n",
    "from sklearn.model_selection import train_test_split\n",
    "from sklearn.linear_model import LogisticRegression\n",
    "from sklearn.metrics import accuracy_score, precision_score, recall_score, f1_score\n",
    "\n",
    "# Load the Iris dataset\n",
    "X, y = datasets.load_iris(return_X_y=True)\n",
    "\n",
    "# Split the data into training and test sets\n",
    "X_train, X_test, y_train, y_test = train_test_split(\n",
    "    X, y, test_size=0.2, random_state=42\n",
    ")\n",
    "\n",
    "# Define the model hyperparameters\n",
    "params = {\n",
    "    \"solver\": \"lbfgs\",\n",
    "    \"max_iter\": 1000,\n",
    "    \"random_state\": 8888,\n",
    "}\n",
    "\n",
    "# Train the model\n",
    "lr = LogisticRegression(**params)\n",
    "lr.fit(X_train, y_train)\n",
    "\n",
    "# Predict on the test set\n",
    "y_pred = lr.predict(X_test)\n",
    "\n",
    "# Calculate metrics\n",
    "accuracy = accuracy_score(y_test, y_pred)\n",
    "print(accuracy)"
   ]
  },
  {
   "cell_type": "code",
   "execution_count": 4,
   "id": "d4a609e2",
   "metadata": {},
   "outputs": [
    {
     "name": "stderr",
     "output_type": "stream",
     "text": [
      "Registered model 'iris_demo' already exists. Creating a new version of this model...\n",
      "2025/06/23 18:10:59 INFO mlflow.store.model_registry.abstract_store: Waiting up to 300 seconds for model version to finish creation. Model name: iris_demo, version 2\n",
      "Created version '2' of model 'iris_demo'.\n"
     ]
    },
    {
     "name": "stdout",
     "output_type": "stream",
     "text": [
      "🏃 View run illustrious-goat-675 at: http://127.0.0.1:8080/#/experiments/1/runs/3bce4092ddfd45ef9ec692d0e779099d\n",
      "🧪 View experiment at: http://127.0.0.1:8080/#/experiments/1\n"
     ]
    }
   ],
   "source": [
    "from datetime import date\n",
    "\n",
    "# Set our tracking server uri for logging\n",
    "mlflow.set_tracking_uri(uri=\"http://127.0.0.1:8080\")\n",
    "\n",
    "# Create a new MLflow Experiment\n",
    "mlflow.set_experiment(\"MLflow+BentoML Quickstart\")\n",
    "\n",
    "# Start an MLflow run\n",
    "with mlflow.start_run():\n",
    "    # Log the hyperparameters\n",
    "    mlflow.log_params(params)\n",
    "\n",
    "    # Log the loss metric\n",
    "    mlflow.log_metric(\"accuracy\", accuracy)\n",
    "\n",
    "    # Set a tag that we can use to remind ourselves what this run was for\n",
    "    mlflow.set_tag(\"Training Info\", \"Basic LR model for iris data\")\n",
    "\n",
    "    # Infer the model signature\n",
    "    signature = infer_signature(X_train, lr.predict(X_train))\n",
    "\n",
    "    # Log the model\n",
    "    model_info = mlflow.sklearn.log_model(\n",
    "        sk_model=lr,\n",
    "        name=\"iris_model\", # demo is out of date. Artifact_uri deperecated\n",
    "        signature=signature,\n",
    "        input_example=X_train,\n",
    "        registered_model_name=\"iris_demo\",\n",
    "    )\n",
    "    # this function no longer works because MLflow 3.x seperates where models are stored now\n",
    "    # model_uri = mlflow.get_artifact_uri(\"iris_model\") "
   ]
  },
  {
   "cell_type": "code",
   "execution_count": 5,
   "id": "ff857de0",
   "metadata": {},
   "outputs": [
    {
     "name": "stdout",
     "output_type": "stream",
     "text": [
      "Model URI: models:/m-c63fc5329d3f45f5bfa6aa5ce8864763\n"
     ]
    }
   ],
   "source": [
    "model_uri = model_info.model_uri\n",
    "print(\"Model URI:\", model_uri)  # e.g., models:/<model_id>/1"
   ]
  },
  {
   "cell_type": "code",
   "execution_count": 4,
   "id": "b06a1303",
   "metadata": {},
   "outputs": [
    {
     "data": {
      "text/plain": [
       "[<FileInfo: file_size=1061, is_dir=False, path='MLmodel'>,\n",
       " <FileInfo: file_size=229, is_dir=False, path='conda.yaml'>,\n",
       " <FileInfo: file_size=2640, is_dir=False, path='input_example.json'>,\n",
       " <FileInfo: file_size=838, is_dir=False, path='model.pkl'>,\n",
       " <FileInfo: file_size=123, is_dir=False, path='python_env.yaml'>,\n",
       " <FileInfo: file_size=107, is_dir=False, path='requirements.txt'>,\n",
       " <FileInfo: file_size=6740, is_dir=False, path='serving_input_example.json'>]"
      ]
     },
     "execution_count": 4,
     "metadata": {},
     "output_type": "execute_result"
    }
   ],
   "source": [
    "mlflow.artifacts.list_artifacts(model_uri)"
   ]
  },
  {
   "cell_type": "code",
   "execution_count": 5,
   "id": "39e5ab08",
   "metadata": {},
   "outputs": [
    {
     "data": {
      "text/plain": [
       "'/tmp/tmprq1pkjtd/'"
      ]
     },
     "execution_count": 5,
     "metadata": {},
     "output_type": "execute_result"
    }
   ],
   "source": [
    "mlflow.artifacts.download_artifacts(model_uri)"
   ]
  },
  {
   "cell_type": "code",
   "execution_count": 6,
   "id": "08416e7a",
   "metadata": {},
   "outputs": [
    {
     "name": "stderr",
     "output_type": "stream",
     "text": [
      "/usr/local/conda/envs/bentoml/lib/python3.12/site-packages/fs/__init__.py:4: UserWarning: pkg_resources is deprecated as an API. See https://setuptools.pypa.io/en/latest/pkg_resources.html. The pkg_resources package is slated for removal as early as 2025-11-30. Refrain from using this package or pin to Setuptools<81.\n",
      "  __import__(\"pkg_resources\").declare_namespace(__name__)  # type: ignore\n",
      "'labels' should be a dict[str, str] and enforced by BentoML. Converting all values to string.\n"
     ]
    }
   ],
   "source": [
    "import bentoml\n",
    "\n",
    "bento_model = bentoml.mlflow.import_model(\n",
    "    'iris', \n",
    "    model_uri=model_uri,\n",
    "    labels={\n",
    "        \"team\": \"bento\",\n",
    "        \"stage\": \"dev\",\n",
    "        \"accuracy\": accuracy,\n",
    "        \"training_date\": str(date.today())\n",
    "    }\n",
    ")"
   ]
  },
  {
   "cell_type": "code",
   "execution_count": 7,
   "id": "61002817",
   "metadata": {},
   "outputs": [
    {
     "name": "stdout",
     "output_type": "stream",
     "text": [
      "[2]\n"
     ]
    }
   ],
   "source": [
    "import numpy as np\n",
    "\n",
    "import bentoml\n",
    "\n",
    "# Load the latest version of iris model:\n",
    "iris_model = bentoml.mlflow.load_model(\"iris:latest\")\n",
    "\n",
    "# Alternatively, load the model by specifying the model tag\n",
    "# iris_model = bentoml.mlflow.load_model(\"iris:hu5d7xxs3oxmnuqj\")\n",
    "\n",
    "input_data = np.array([[5.9, 3, 5.1, 1.8]])\n",
    "res = iris_model.predict(input_data)\n",
    "print(res)"
   ]
  },
  {
   "cell_type": "code",
   "execution_count": null,
   "id": "1e023888",
   "metadata": {},
   "outputs": [
    {
     "name": "stdout",
     "output_type": "stream",
     "text": [
      "/usr/local/conda/envs/bentoml/lib/python3.12/site-packages/fs/__init__.py:4: UserWarning: pkg_resources is deprecated as an API. See https://setuptools.pypa.io/en/latest/pkg_resources.html. The pkg_resources package is slated for removal as early as 2025-11-30. Refrain from using this package or pin to Setuptools<81.\n",
      "  __import__(\"pkg_resources\").declare_namespace(__name__)  # type: ignore\n",
      "2025-06-22T22:33:07+0000 [INFO] [cli] Starting production HTTP BentoServer from \"service.py:IrisClassifier\" listening on http://localhost:3000 (Press CTRL+C to quit)\n",
      "/usr/local/conda/envs/bentoml/lib/python3.12/site-packages/fs/__init__.py:4: UserWarning: pkg_resources is deprecated as an API. See https://setuptools.pypa.io/en/latest/pkg_resources.html. The pkg_resources package is slated for removal as early as 2025-11-30. Refrain from using this package or pin to Setuptools<81.\n",
      "  __import__(\"pkg_resources\").declare_namespace(__name__)  # type: ignore\n",
      "2025-06-22T22:33:11+0000 [INFO] [entry_service:IrisClassifier:1] Service IrisClassifier initialized\n",
      "^C\n",
      "2025-06-22T22:33:41+0000 [INFO] [entry_service:IrisClassifier:1] Service instance cleanup finalized\n"
     ]
    }
   ],
   "source": [
    "# !bentoml serve service.py:IrisClassifier"
   ]
  },
  {
   "cell_type": "code",
   "execution_count": 14,
   "id": "3d04c826",
   "metadata": {},
   "outputs": [
    {
     "data": {
      "text/plain": [
       "['virginica']"
      ]
     },
     "execution_count": 14,
     "metadata": {},
     "output_type": "execute_result"
    }
   ],
   "source": [
    "import bentoml\n",
    "import numpy as np\n",
    "\n",
    "client = bentoml.SyncHTTPClient(\"http://localhost:3000\")\n",
    "client.predict(np.array([[5.9, 3, 5.1, 1.8]])) # ['virginica']"
   ]
  },
  {
   "cell_type": "code",
   "execution_count": 15,
   "id": "9a7568a5",
   "metadata": {},
   "outputs": [
    {
     "name": "stdout",
     "output_type": "stream",
     "text": [
      "{\"error\":\"An unexpected error has occurred, please check the server log.\"}"
     ]
    }
   ],
   "source": [
    "# Example of API call with no input validation. expects float inputs\n",
    "!curl -X 'POST' \\\n",
    "  'http://localhost:3000/predict' \\\n",
    "  -H 'accept: application/json' \\\n",
    "  -H 'Content-Type: application/json' \\\n",
    "  -d '{\"input_data\": [[5,3,5,2]]}'"
   ]
  },
  {
   "cell_type": "code",
   "execution_count": 16,
   "id": "b274ecb5",
   "metadata": {},
   "outputs": [
    {
     "data": {
      "text/plain": [
       "['setosa']"
      ]
     },
     "execution_count": 16,
     "metadata": {},
     "output_type": "execute_result"
    }
   ],
   "source": [
    "import bentoml\n",
    "import numpy as np\n",
    "\n",
    "# Example of manual input validation where we force type to float\n",
    "client = bentoml.SyncHTTPClient(\"http://localhost:3000\")\n",
    "client.predict(np.array([[1,1,1,1]], dtype='float64'))"
   ]
  },
  {
   "cell_type": "code",
   "execution_count": 17,
   "id": "fbf41074",
   "metadata": {},
   "outputs": [
    {
     "name": "stdout",
     "output_type": "stream",
     "text": [
      "Sending 1000 requests to http://localhost:3000 with concurrency 20...\n",
      "Done.\n"
     ]
    }
   ],
   "source": [
    "import requests\n",
    "from concurrent.futures import ThreadPoolExecutor\n",
    "import time\n",
    "import random\n",
    "\n",
    "CONCURRENCY = 20        # Number of threads (concurrent requests)\n",
    "TOTAL_REQUESTS = 1000     # Total number of requests to send\n",
    "client = bentoml.SyncHTTPClient(\"http://localhost:3000\")\n",
    "\n",
    "from sklearn.datasets import load_iris\n",
    "iris = load_iris()\n",
    "data_samples = iris.data.tolist()\n",
    "payloads = [random.choice(data_samples) for _ in range(TOTAL_REQUESTS)]\n",
    "\n",
    "def send_request(index, data):\n",
    "    \"\"\"Send a single HTTP request and print the result.\"\"\"\n",
    "    try:\n",
    "        start_time = time.time()\n",
    "        response = client.predict(np.array([data]))\n",
    "        duration = time.time() - start_time\n",
    "    except Exception as e:\n",
    "        print(f\"Request {index}: Error -> {e}\")\n",
    "\n",
    "print(f\"Sending {TOTAL_REQUESTS} requests to {client.url} with concurrency {CONCURRENCY}...\")\n",
    "with ThreadPoolExecutor(max_workers=CONCURRENCY) as executor:\n",
    "    for i, data in enumerate(payloads, start=1):\n",
    "        executor.submit(send_request, i, data)\n",
    "\n",
    "print(\"Done.\")"
   ]
  }
 ],
 "metadata": {
  "kernelspec": {
   "display_name": "bentoml",
   "language": "python",
   "name": "python3"
  },
  "language_info": {
   "codemirror_mode": {
    "name": "ipython",
    "version": 3
   },
   "file_extension": ".py",
   "mimetype": "text/x-python",
   "name": "python",
   "nbconvert_exporter": "python",
   "pygments_lexer": "ipython3",
   "version": "3.12.11"
  }
 },
 "nbformat": 4,
 "nbformat_minor": 5
}
